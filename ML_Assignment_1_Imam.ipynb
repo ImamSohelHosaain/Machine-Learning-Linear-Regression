{
  "nbformat": 4,
  "nbformat_minor": 0,
  "metadata": {
    "colab": {
      "name": "ML  Assignment 1 Imam",
      "private_outputs": true,
      "provenance": [],
      "collapsed_sections": []
    },
    "kernelspec": {
      "name": "python3",
      "display_name": "Python 3"
    },
    "language_info": {
      "name": "python"
    },
    "accelerator": "GPU"
  },
  "cells": [
    {
      "cell_type": "code",
      "execution_count": null,
      "metadata": {
        "id": "sZJelkHonWqC"
      },
      "outputs": [],
      "source": [
        "import numpy as np\n",
        "import pandas as pd\n",
        "import matplotlib.pyplot as plt"
      ]
    },
    {
      "cell_type": "code",
      "source": [
        "! git clone https://github.com/noman13bd/ML-Practice/blob/master/Height-Weight%20Data.csv"
      ],
      "metadata": {
        "id": "crGmnmnRs2k5"
      },
      "execution_count": null,
      "outputs": []
    },
    {
      "cell_type": "code",
      "source": [
        "df=pd.read_csv('/content/height_weight.csv.csv')"
      ],
      "metadata": {
        "id": "mKRtpXFy1zMA"
      },
      "execution_count": null,
      "outputs": []
    },
    {
      "cell_type": "code",
      "source": [
        "df.head()"
      ],
      "metadata": {
        "id": "bUdfiLzg2jld"
      },
      "execution_count": null,
      "outputs": []
    },
    {
      "cell_type": "code",
      "source": [
        "df.tail()"
      ],
      "metadata": {
        "id": "Lozu0L9y2phV"
      },
      "execution_count": null,
      "outputs": []
    },
    {
      "cell_type": "code",
      "source": [
        "df.Height"
      ],
      "metadata": {
        "id": "8KKLwGHS2tWu"
      },
      "execution_count": null,
      "outputs": []
    },
    {
      "cell_type": "code",
      "source": [
        "df.Weight"
      ],
      "metadata": {
        "id": "wo55VZPp2zvz"
      },
      "execution_count": null,
      "outputs": []
    },
    {
      "cell_type": "code",
      "source": [
        "df.Height.mean()"
      ],
      "metadata": {
        "id": "Sj1NLwz53CWu"
      },
      "execution_count": null,
      "outputs": []
    },
    {
      "cell_type": "code",
      "source": [
        "df.Weight.mean()"
      ],
      "metadata": {
        "id": "sDCPj2y_3LaN"
      },
      "execution_count": null,
      "outputs": []
    },
    {
      "cell_type": "code",
      "source": [
        "df.Height.max()"
      ],
      "metadata": {
        "id": "Sve7ISv13Old"
      },
      "execution_count": null,
      "outputs": []
    },
    {
      "cell_type": "code",
      "source": [
        "df.Height.min()"
      ],
      "metadata": {
        "id": "mSSY1EEM3RyU"
      },
      "execution_count": null,
      "outputs": []
    },
    {
      "cell_type": "code",
      "source": [
        "df.describe()"
      ],
      "metadata": {
        "id": "6YVbLDN33VoT"
      },
      "execution_count": null,
      "outputs": []
    },
    {
      "cell_type": "code",
      "source": [
        "df.shape"
      ],
      "metadata": {
        "id": "S8iTfz2J3s1s"
      },
      "execution_count": null,
      "outputs": []
    },
    {
      "cell_type": "code",
      "source": [
        "row, col = df.shape\n"
      ],
      "metadata": {
        "id": "C6yM61n54NYC"
      },
      "execution_count": null,
      "outputs": []
    },
    {
      "cell_type": "code",
      "source": [
        "row"
      ],
      "metadata": {
        "id": "bg33SZU47iaR"
      },
      "execution_count": null,
      "outputs": []
    },
    {
      "cell_type": "code",
      "source": [
        "col"
      ],
      "metadata": {
        "id": "9iF1HALm4PBV"
      },
      "execution_count": null,
      "outputs": []
    },
    {
      "cell_type": "code",
      "source": [
        "df. count()         "
      ],
      "metadata": {
        "id": "0sESqZ667re0"
      },
      "execution_count": null,
      "outputs": []
    },
    {
      "cell_type": "code",
      "source": [
        "df[5:10]"
      ],
      "metadata": {
        "id": "yEt40fqu8CKE"
      },
      "execution_count": null,
      "outputs": []
    },
    {
      "cell_type": "code",
      "source": [
        "plt.scatter(df['Height'] , df['Weight']) #"
      ],
      "metadata": {
        "id": "EaCv4X7t_1dk"
      },
      "execution_count": null,
      "outputs": []
    },
    {
      "cell_type": "code",
      "source": [
        "plt.scatter(df['Height'] , df['Weight'],color='red' , marker='*') #"
      ],
      "metadata": {
        "id": "ys6CAgcXAyJ7"
      },
      "execution_count": null,
      "outputs": []
    },
    {
      "cell_type": "code",
      "source": [
        "plt.scatter(df['Height'] , df['Weight'], color='#fc03f4',marker='o')\n",
        "plt.xlabel('Height',color='red')\n",
        "plt.ylabel('Weight', color='green')\n",
        "plt.title('Height vs Weight', color='blue')\n",
        "plt.savefig('1.pdf')"
      ],
      "metadata": {
        "id": "77XJ_nkMBYf4"
      },
      "execution_count": null,
      "outputs": []
    },
    {
      "cell_type": "code",
      "source": [
        "from sklearn.model_selection import train_test_split"
      ],
      "metadata": {
        "id": "WD0HYgTVCCn1"
      },
      "execution_count": null,
      "outputs": []
    },
    {
      "cell_type": "code",
      "source": [
        "x = df[['Height']] # x=df.drop('rent', axis=1)\n",
        "y = df['Weight']\n",
        "xtrain,xtest, ytrain,ytest=train_test_split(x,y,test_size=.30) # training data = 70%"
      ],
      "metadata": {
        "id": "-xdbX4GjDREd"
      },
      "execution_count": null,
      "outputs": []
    },
    {
      "cell_type": "code",
      "source": [
        "x.head()"
      ],
      "metadata": {
        "id": "7arbZZiADb-u"
      },
      "execution_count": null,
      "outputs": []
    },
    {
      "cell_type": "code",
      "source": [
        "y.head()"
      ],
      "metadata": {
        "id": "aFc8GVGwEGy8"
      },
      "execution_count": null,
      "outputs": []
    },
    {
      "cell_type": "code",
      "source": [
        "xtrain.head()"
      ],
      "metadata": {
        "id": "WudEYzrmFfhX"
      },
      "execution_count": null,
      "outputs": []
    },
    {
      "cell_type": "code",
      "source": [
        "ytrain.head()"
      ],
      "metadata": {
        "id": "7NK9A3jJFh8J"
      },
      "execution_count": null,
      "outputs": []
    },
    {
      "cell_type": "code",
      "source": [
        "xtest.head()"
      ],
      "metadata": {
        "id": "r4LyRaJyFqY1"
      },
      "execution_count": null,
      "outputs": []
    },
    {
      "cell_type": "code",
      "source": [
        "ytest.head()"
      ],
      "metadata": {
        "id": "KIf3IhzGFuJA"
      },
      "execution_count": null,
      "outputs": []
    },
    {
      "cell_type": "code",
      "source": [
        "x = df[['Height']] # x=df.drop('rent', axis=1)\n",
        "y = df['Weight']\n",
        "xtrain,xtest, ytrain,ytest=train_test_split(x,y,test_size=.30) # training data = 70%"
      ],
      "metadata": {
        "id": "GG2_F-0lFw4u"
      },
      "execution_count": null,
      "outputs": []
    },
    {
      "cell_type": "code",
      "source": [
        "from sklearn.linear_model import LinearRegression\n",
        "reg = LinearRegression() # obj\n",
        "reg.fit(xtrain, ytrain) # Training ML Model"
      ],
      "metadata": {
        "id": "tjhswA_xGI4x"
      },
      "execution_count": null,
      "outputs": []
    },
    {
      "cell_type": "code",
      "source": [
        "reg.coef_\n",
        "reg.intercept_"
      ],
      "metadata": {
        "id": "-oZ0Vh65GWFE"
      },
      "execution_count": null,
      "outputs": []
    },
    {
      "cell_type": "code",
      "source": [
        "m = reg.coef_\n",
        "c = reg.intercept_\n",
        "x1 = 60\n",
        "y = (m*x1)+c\n",
        "y"
      ],
      "metadata": {
        "id": "8KOmPyHUGcgd"
      },
      "execution_count": null,
      "outputs": []
    },
    {
      "cell_type": "code",
      "source": [
        "reg.predict([[68]]) #height"
      ],
      "metadata": {
        "id": "mUsmWUgJGqpr"
      },
      "execution_count": null,
      "outputs": []
    },
    {
      "cell_type": "code",
      "source": [
        "df['predicted results'] = reg.predict(x)"
      ],
      "metadata": {
        "id": "RfTEbIB1G-4r"
      },
      "execution_count": null,
      "outputs": []
    },
    {
      "cell_type": "code",
      "source": [
        "df"
      ],
      "metadata": {
        "id": "VnDr5VVLHG8m"
      },
      "execution_count": null,
      "outputs": []
    },
    {
      "cell_type": "code",
      "source": [
        "pred = reg.predict(xtest) #corr. result of ytest / y\n",
        "pred"
      ],
      "metadata": {
        "id": "WQgiqdjfHKw7"
      },
      "execution_count": null,
      "outputs": []
    },
    {
      "cell_type": "code",
      "source": [
        "from sklearn.metrics import mean_squared_error\n",
        "mse = mean_squared_error(ytest, pred)\n",
        "mse"
      ],
      "metadata": {
        "id": "QK92E1mSK9Ix"
      },
      "execution_count": null,
      "outputs": []
    },
    {
      "cell_type": "code",
      "source": [
        "from sklearn.metrics import mean_absolute_error\n",
        "mae = mean_absolute_error(ytest, pred)\n",
        "mae"
      ],
      "metadata": {
        "id": "VeSJHtv1LOw_"
      },
      "execution_count": null,
      "outputs": []
    },
    {
      "cell_type": "code",
      "source": [
        "xtest"
      ],
      "metadata": {
        "id": "0OT7dn1iLWlW"
      },
      "execution_count": null,
      "outputs": []
    },
    {
      "cell_type": "code",
      "source": [
        "ytest"
      ],
      "metadata": {
        "id": "_1R56TuTLmQp"
      },
      "execution_count": null,
      "outputs": []
    },
    {
      "cell_type": "code",
      "source": [
        "pred"
      ],
      "metadata": {
        "id": "x0otwbJVLpT2"
      },
      "execution_count": null,
      "outputs": []
    },
    {
      "cell_type": "code",
      "source": [
        "plt.scatter(xtest, ytest,)"
      ],
      "metadata": {
        "id": "DPe3GNHuLsHd"
      },
      "execution_count": null,
      "outputs": []
    },
    {
      "cell_type": "code",
      "source": [
        "plt.plot(xtest, reg.predict(xtest), marker = 'o',color='blue')"
      ],
      "metadata": {
        "id": "304mkqqoMGSb"
      },
      "execution_count": null,
      "outputs": []
    },
    {
      "cell_type": "code",
      "source": [
        "plt.figure(figsize=(12,8)) #\n",
        "plt.scatter(df['Height'] , df['Weight'], color='#3498DB',marker='o')\n",
        "plt.plot(xtest, reg.predict(xtest), marker = '^',color='red')\n",
        "plt.xlabel('Height', color='black')\n",
        "plt.ylabel('Weight', color='black')\n",
        "plt.title('Linear Regression of Height vs Weight', color='green', size=15)"
      ],
      "metadata": {
        "id": "7cnvVeZpMMBF"
      },
      "execution_count": null,
      "outputs": []
    },
    {
      "cell_type": "code",
      "source": [
        ""
      ],
      "metadata": {
        "id": "v99tA3lDMdHm"
      },
      "execution_count": null,
      "outputs": []
    }
  ]
}